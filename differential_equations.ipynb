{
 "cells": [
  {
   "cell_type": "markdown",
   "id": "df0432d3",
   "metadata": {
    "scrolled": true
   },
   "source": [
    "# Rozwiązanie równania wibracji akustycznych warstw materiału\n",
    "Rozwiązanie równania przy pomocy bibliotek numpy, scipy oraz matplotlib. Rysowanie wykresu otrzymanej funkcji.\n",
    "\n",
    "## Rówanie wibracji akustycznych warstw materiału"
   ]
  },
  {
   "cell_type": "markdown",
   "id": "4f11a5b3",
   "metadata": {},
   "source": [
    "$$ \\left\\{\n",
    "\\begin{array}{ll}\n",
    "      \\frac{-d^2u(x)}{dx^2}-u=sinx \\\\\n",
    "      u(0)=0\\\\\n",
    "      \\frac{du(2)}{dx}-u(2)=0\\\\\n",
    "\\end{array} \n",
    "\\right.  $$ \n",
    "    \n",
    "$$[0,2]\\ni x \\rightarrow u(x) \\in R $$"
   ]
  },
  {
   "cell_type": "markdown",
   "id": "9ef97cfb",
   "metadata": {},
   "source": [
    "## Rozwiązanie równiania"
   ]
  },
  {
   "cell_type": "markdown",
   "id": "835a5b12",
   "metadata": {},
   "source": [
    "Po przekształceniach otrzymujemy równanie postaci\n",
    "$$\n",
    "u(2)v(2) -  \\int_{0}^{2} u'(x)v'(x) - u(x)v(x) \\,dx = - \\int_{0}^{2} v(x)sin(x) \\,dx \n",
    "$$"
   ]
  },
  {
   "cell_type": "markdown",
   "id": "b414bfdf",
   "metadata": {},
   "source": [
    "## Kod - rozwiązanie"
   ]
  },
  {
   "cell_type": "code",
   "execution_count": 3,
   "id": "5614433b",
   "metadata": {},
   "outputs": [],
   "source": [
    "from numpy.linalg import inv\n",
    "from functools import partial\n",
    "from math import sin\n",
    "\n",
    "from matplotlib import pyplot as plt\n",
    "import scipy.integrate as integrate\n",
    "from scipy.misc import derivative\n",
    "import numpy as np\n",
    "from time import time"
   ]
  },
  {
   "cell_type": "markdown",
   "id": "7c2dca55",
   "metadata": {},
   "source": [
    "Stworzenie funkcji B i L na podstawie obliczeń zrobioncyh na zajęciach. Przyjmuje ona u i v, przy czym u[0] i v[0] to są funkcje u(x) oraz v(x), u[1] i v[1] są pochodnymi u i v, u[2], v[2] to są lewe końce, u[3], v[3] prawe końce przedziałów na któych u i v są zdefiniowane. Aby nie wykonywać niepotrzebnych obliczeń całkujemy tylko po przedziale w którym zdefiniowane są i u, i v. Za a i b przyjmujemy maksymalny przedział dla których całkę możemy policzyć."
   ]
  },
  {
   "cell_type": "code",
   "execution_count": 4,
   "id": "253cc668",
   "metadata": {},
   "outputs": [],
   "source": [
    "def B(u, v):\n",
    "    a1, b1, a2, b2 = u[2], u[3], v[2], v[3]\n",
    "    if b1 >= a2 >= a1:\n",
    "        a = a2\n",
    "        b = b1\n",
    "    elif b2 >= a1 >= a2:\n",
    "        a = a1\n",
    "        b = b2\n",
    "    else:\n",
    "        return v[0](2) * u[0](2)\n",
    "    if a == b:\n",
    "        return v[0](2) * u[0](2)\n",
    "    return v[0](2) * u[0](2) - integrate.quad(lambda x: u[1](x) * v[1](x) - v[0](x) * u[0](x), a, b)[0]\n",
    "\n",
    "\n",
    "def L(v):\n",
    "    a = v[2]\n",
    "    b = v[3]\n",
    "    return -integrate.quad(lambda x: sin(x) * v[0](x), a, b)[0]"
   ]
  },
  {
   "cell_type": "markdown",
   "id": "ee09609f",
   "metadata": {},
   "source": [
    "Storzenie funkcji e_i, tworzących \"piramidki\", na przedziale [0,2], ich pochodnych oraz przedziałów dla których są zdefiniowane. "
   ]
  },
  {
   "cell_type": "code",
   "execution_count": 5,
   "id": "9a212a01",
   "metadata": {},
   "outputs": [],
   "source": [
    "def e_i(i, n):\n",
    "    h = 2 / n\n",
    "    d1 = 1 - i\n",
    "    d2 = 1 + i\n",
    "\n",
    "    a = max(0, h * (i-1))\n",
    "    b = min(h * (i+1), 2)\n",
    "\n",
    "    def e(x):\n",
    "        if a <= x <= h * i:\n",
    "            return 1 / h * x + d1\n",
    "        elif h * i < x < b:\n",
    "            return -1 / h * x + d2\n",
    "        return 0\n",
    "\n",
    "    def de(x):\n",
    "        if a <= x <= h * i:\n",
    "            return 1 / h\n",
    "        elif h * i < x < b:\n",
    "            return -1 / h\n",
    "        return 0\n",
    "\n",
    "    return e, de, a, b\n",
    "\n",
    "\n",
    "def get_e(n):\n",
    "    e = []\n",
    "    for i in range(n+1):\n",
    "        e.append(e_i(i, n))\n",
    "\n",
    "    return e\n"
   ]
  },
  {
   "cell_type": "markdown",
   "id": "93218839",
   "metadata": {},
   "source": [
    " Stworzenie macierzy potrzebnych do rozwiązania układu równań"
   ]
  },
  {
   "cell_type": "code",
   "execution_count": 6,
   "id": "371949f5",
   "metadata": {},
   "outputs": [],
   "source": [
    "def arrays(B, L, e):\n",
    "    arr_B = np.array([[B(u, v) for u in e] for v in e])\n",
    "    arr_L = np.array([L(v) for v in e])\n",
    "    return arr_B, arr_L\n"
   ]
  },
  {
   "cell_type": "markdown",
   "id": "442b07c3",
   "metadata": {},
   "source": [
    "Rozwiązanie układu równań "
   ]
  },
  {
   "cell_type": "code",
   "execution_count": 7,
   "id": "ce2bdf45",
   "metadata": {},
   "outputs": [],
   "source": [
    "def dotArrays(arr_B, arr_L):\n",
    "    return inv(arr_B).dot(arr_L)"
   ]
  },
  {
   "cell_type": "markdown",
   "id": "6905f7b2",
   "metadata": {},
   "source": [
    "Ostateczne rozwiązanie, wykorzystanie uprzednio stworznych funkcji. Utworzenie kombinacji liniowej i zwrócenie ostatecznego wyniku jako funkcji"
   ]
  },
  {
   "cell_type": "code",
   "execution_count": 8,
   "id": "2261e166",
   "metadata": {},
   "outputs": [],
   "source": [
    "def u(arr_u, e, x):\n",
    "    res = 0\n",
    "    for i in range(len(e)):\n",
    "        res += e[i][0](x) * arr_u[i]\n",
    "    return res\n",
    "\n",
    "\n",
    "def solve(n):\n",
    "    e = get_e(n)\n",
    "    arr_B, arr_L = arrays(B, L, e)\n",
    "    arr_u = dotArrays(arr_B, arr_L)\n",
    "\n",
    "    return lambda x: u(arr_u, e, x)\n"
   ]
  },
  {
   "cell_type": "markdown",
   "id": "41efad45",
   "metadata": {},
   "source": [
    "Narysowanie wykresu w zależności od n"
   ]
  },
  {
   "cell_type": "code",
   "execution_count": 9,
   "id": "0cd6e0ef",
   "metadata": {},
   "outputs": [],
   "source": [
    "def draw_plot(n):\n",
    "    x_values = np.linspace(0, 2, 100)\n",
    "\n",
    "    start = time()\n",
    "    y_values = list(map(solve(n), x_values))\n",
    "    end = time()\n",
    "\n",
    "    # czas liczenia\n",
    "    print(end - start)\n",
    "\n",
    "    plt.plot(x_values, y_values)\n",
    "    plt.show()\n"
   ]
  },
  {
   "cell_type": "markdown",
   "id": "084bf623",
   "metadata": {},
   "source": [
    "## Przypisanie n przykładowej wartości (można dowolnie zmieniać)"
   ]
  },
  {
   "cell_type": "code",
   "execution_count": 10,
   "id": "6fe44e1a",
   "metadata": {},
   "outputs": [],
   "source": [
    "n = 1000"
   ]
  },
  {
   "cell_type": "markdown",
   "id": "71c3ada9",
   "metadata": {},
   "source": [
    "## Rysowanie wykresu funkcji oraz wyświetlenie czasu obliczania równania"
   ]
  },
  {
   "cell_type": "code",
   "execution_count": 11,
   "id": "dd6a6179",
   "metadata": {
    "scrolled": true
   },
   "outputs": [
    {
     "name": "stdout",
     "output_type": "stream",
     "text": [
      "1.5179965496063232\n"
     ]
    },
    {
     "data": {
      "image/png": "[encoded data removed]",
      "text/plain": [
       "<Figure size 432x288 with 1 Axes>"
      ]
     },
     "metadata": {
      "needs_background": "light"
     },
     "output_type": "display_data"
    }
   ],
   "source": [
    "draw_plot(n)"
   ]
  }
 ],
 "metadata": {
  "kernelspec": {
   "display_name": "Python 3 (ipykernel)",
   "language": "python",
   "name": "python3"
  },
  "language_info": {
   "codemirror_mode": {
    "name": "ipython",
    "version": 3
   },
   "file_extension": ".py",
   "mimetype": "text/x-python",
   "name": "python",
   "nbconvert_exporter": "python",
   "pygments_lexer": "ipython3",
   "version": "3.9.0"
  }
 },
 "nbformat": 4,
 "nbformat_minor": 5
}
